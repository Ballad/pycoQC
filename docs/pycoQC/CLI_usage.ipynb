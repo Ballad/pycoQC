{
 "cells": [
  {
   "cell_type": "markdown",
   "metadata": {},
   "source": [
    "# pycoQC CLI Usage"
   ]
  },
  {
   "cell_type": "markdown",
   "metadata": {
    "slideshow": {
     "slide_type": "slide"
    }
   },
   "source": [
    "PycoQC CLI can generate a beautiful HTML formatted report containing interactive D3.js plots. On top of it, the CLI can also dump summary information in a JSON formated file allowing easy parsing with third party tools.\n",
    "\n",
    "The report is dynamically generated depending on the information available in the summary file."
   ]
  },
  {
   "cell_type": "markdown",
   "metadata": {},
   "source": [
    "## CLI Usage"
   ]
  },
  {
   "cell_type": "markdown",
   "metadata": {},
   "source": [
    "### Activate virtual environment"
   ]
  },
  {
   "cell_type": "code",
   "execution_count": 2,
   "metadata": {
    "ExecuteTime": {
     "end_time": "2019-10-11T23:11:29.637529Z",
     "start_time": "2019-10-11T23:11:28.861311Z"
    },
    "init_cell": true
   },
   "outputs": [
    {
     "name": "stdout",
     "output_type": "stream",
     "text": [
      "(pycoQC) (pycoQC) "
     ]
    },
    {
     "ename": "",
     "evalue": "1",
     "output_type": "error",
     "traceback": []
    }
   ],
   "source": [
    "# Using virtualenvwrapper here but can also be done with Conda \n",
    "workon pycoQC"
   ]
  },
  {
   "cell_type": "markdown",
   "metadata": {},
   "source": [
    "### Getting help"
   ]
  },
  {
   "cell_type": "code",
   "execution_count": null,
   "metadata": {
    "ExecuteTime": {
     "end_time": "2019-10-11T22:27:07.608451Z",
     "start_time": "2019-10-11T22:27:06.768Z"
    },
    "init_cell": true
   },
   "outputs": [],
   "source": [
    "pycoQC -h"
   ]
  },
  {
   "cell_type": "markdown",
   "metadata": {},
   "source": [
    "### Usage examples"
   ]
  },
  {
   "cell_type": "markdown",
   "metadata": {},
   "source": [
    "#### Basic usage  (quiet mode)"
   ]
  },
  {
   "cell_type": "code",
   "execution_count": 3,
   "metadata": {
    "ExecuteTime": {
     "end_time": "2019-10-11T23:11:38.243127Z",
     "start_time": "2019-10-11T23:11:31.276107Z"
    },
    "scrolled": false
   },
   "outputs": [
    {
     "name": "stdout",
     "output_type": "stream",
     "text": [
      "Checking arguments values\n",
      "Check input data files\n",
      "Parse data files\n",
      "Merge data\n",
      "Cleaning data\n",
      "Loading plotting interface\n",
      "(pycoQC) "
     ]
    },
    {
     "ename": "",
     "evalue": "1",
     "output_type": "error",
     "traceback": []
    }
   ],
   "source": [
    "pycoQC \\\n",
    "    -f ./data/Albacore-1.2.1_basecall-1D-DNA_sequencing_summary.txt.gz \\\n",
    "    -o ./results/Albacore-1.2.1_basecall-1D-DNA.html \\\n",
    "    --quiet"
   ]
  },
  {
   "cell_type": "markdown",
   "metadata": {},
   "source": [
    "[HTML OUTPUT](https://a-slide.github.io/pycoQC/pycoQC/results/Albacore-1.2.1_basecall-1D-DNA.html)"
   ]
  },
  {
   "cell_type": "markdown",
   "metadata": {},
   "source": [
    "#### JSON data output on top of the html report\n",
    "\n",
    "A json report can be generated on top (or instead) of the html report\n",
    "\n",
    "It contains a summarized version of the data collected by pycoQC in a structured and easy to parse format"
   ]
  },
  {
   "cell_type": "code",
   "execution_count": 5,
   "metadata": {
    "ExecuteTime": {
     "end_time": "2019-10-11T23:12:01.488645Z",
     "start_time": "2019-10-11T23:11:54.745753Z"
    },
    "scrolled": false
   },
   "outputs": [
    {
     "name": "stdout",
     "output_type": "stream",
     "text": [
      "Checking arguments values\n",
      "Check input data files\n",
      "Parse data files\n",
      "Merge data\n",
      "Cleaning data\n",
      "Loading plotting interface\n",
      "(pycoQC) "
     ]
    },
    {
     "ename": "",
     "evalue": "1",
     "output_type": "error",
     "traceback": []
    }
   ],
   "source": [
    "pycoQC \\\n",
    "    -f ./data/Guppy-2.1.3_basecall-1D-RNA_sequencing_summary.txt.gz \\\n",
    "    -o ./results/Guppy-2.1.3_basecall-1D_RNA.html \\\n",
    "    -j ./results/Guppy-2.1.3_basecall-1D_RNA.json \\\n",
    "    --quiet"
   ]
  },
  {
   "cell_type": "markdown",
   "metadata": {},
   "source": [
    "[HTML OUTPUT](https://a-slide.github.io/pycoQC/pycoQC/results/Guppy-2.1.3_basecall-1D_RNA.html)\n",
    "\n",
    "[JSON OUTPUT](https://a-slide.github.io/pycoQC/pycoQC/results/Guppy-2.1.3_basecall-1D_RNA.json)"
   ]
  },
  {
   "cell_type": "markdown",
   "metadata": {},
   "source": [
    "#### Including guppy barcoding information"
   ]
  },
  {
   "cell_type": "code",
   "execution_count": 6,
   "metadata": {
    "ExecuteTime": {
     "end_time": "2019-10-11T23:12:09.576888Z",
     "start_time": "2019-10-11T23:12:02.586131Z"
    },
    "scrolled": false
   },
   "outputs": [
    {
     "name": "stdout",
     "output_type": "stream",
     "text": [
      "Checking arguments values\n",
      "Check input data files\n",
      "Parse data files\n",
      "Merge data\n",
      "Cleaning data\n",
      "Loading plotting interface\n",
      "(pycoQC) "
     ]
    },
    {
     "ename": "",
     "evalue": "1",
     "output_type": "error",
     "traceback": []
    }
   ],
   "source": [
    "pycoQC \\\n",
    "    -f ./data/Guppy-2.1.3_basecall-1D-DNA_sequencing_summary.txt.gz \\\n",
    "    -b ./data/Guppy-2.1.3_basecall-1D_DNA_barcoding_summary.txt.gz \\\n",
    "    -o ./results/Guppy-2.1.3_basecall-1D_DNA_barcode.html \\\n",
    "    --quiet\n",
    "    "
   ]
  },
  {
   "cell_type": "markdown",
   "metadata": {},
   "source": [
    "[HTML OUTPUT](https://a-slide.github.io/pycoQC/pycoQC/results/Guppy-2.1.3_basecall-1D_DNA_barcode.html)"
   ]
  },
  {
   "cell_type": "markdown",
   "metadata": {},
   "source": [
    "#### Matching multiple files with a regex and add a title to report"
   ]
  },
  {
   "cell_type": "code",
   "execution_count": 7,
   "metadata": {
    "ExecuteTime": {
     "end_time": "2019-10-11T23:12:17.588241Z",
     "start_time": "2019-10-11T23:12:10.283232Z"
    },
    "scrolled": false
   },
   "outputs": [
    {
     "name": "stdout",
     "output_type": "stream",
     "text": [
      "Checking arguments values\n",
      "Check input data files\n",
      "Parse data files\n",
      "Merge data\n",
      "Cleaning data\n",
      "Loading plotting interface\n",
      "(pycoQC) "
     ]
    },
    {
     "ename": "",
     "evalue": "1",
     "output_type": "error",
     "traceback": []
    }
   ],
   "source": [
    "pycoQC \\\n",
    "    -f ./data/Albacore*RNA* \\\n",
    "    -o ./results/Albacore_all_RNA.html \\\n",
    "    --report_title \"All RNA runs\" \\\n",
    "    --quiet"
   ]
  },
  {
   "cell_type": "markdown",
   "metadata": {},
   "source": [
    "[HTML OUTPUT](https://a-slide.github.io/pycoQC/pycoQC/results/Albacore_all_RNA.html)"
   ]
  },
  {
   "cell_type": "markdown",
   "metadata": {},
   "source": [
    "#### Tweak filtering parameters"
   ]
  },
  {
   "cell_type": "markdown",
   "metadata": {},
   "source": [
    "* Flag reads with a quality above 8 as pass\n",
    "* Discard reads aligned on the calibration standard\n",
    "* Unset value of any barcode found in less than 10% of the reads"
   ]
  },
  {
   "cell_type": "code",
   "execution_count": 8,
   "metadata": {
    "ExecuteTime": {
     "end_time": "2019-10-11T23:12:25.456413Z",
     "start_time": "2019-10-11T23:12:18.715901Z"
    },
    "scrolled": false
   },
   "outputs": [
    {
     "name": "stdout",
     "output_type": "stream",
     "text": [
      "Checking arguments values\n",
      "Check input data files\n",
      "Parse data files\n",
      "Merge data\n",
      "Cleaning data\n",
      "Loading plotting interface\n",
      "(pycoQC) "
     ]
    },
    {
     "ename": "",
     "evalue": "1",
     "output_type": "error",
     "traceback": []
    }
   ],
   "source": [
    "pycoQC \\\n",
    "    -f ./data/Albacore-2.1.10_basecall-1D-DNA_sequencing_summary.txt.gz\\\n",
    "    -o ./results/Albacore-2.1.10_basecall-1D-DNA.html \\\n",
    "    --min_pass_qual 8 \\\n",
    "    --filter_calibration \\\n",
    "    --min_barcode_percent 10 \\\n",
    "    --quiet"
   ]
  },
  {
   "cell_type": "markdown",
   "metadata": {},
   "source": [
    "[HTML OUTPUT](https://a-slide.github.io/pycoQC/pycoQC/results/Albacore-2.1.10_basecall-1D-DNA.html)"
   ]
  },
  {
   "cell_type": "markdown",
   "metadata": {},
   "source": [
    "#### Including Alignments information for a Bam file"
   ]
  },
  {
   "cell_type": "code",
   "execution_count": 9,
   "metadata": {
    "ExecuteTime": {
     "end_time": "2019-10-11T23:12:37.415690Z",
     "start_time": "2019-10-11T23:12:26.618571Z"
    },
    "scrolled": false
   },
   "outputs": [
    {
     "name": "stdout",
     "output_type": "stream",
     "text": [
      "Checking arguments values\n",
      "Check input data files\n",
      "Parse data files\n",
      "Merge data\n",
      "Cleaning data\n",
      "Loading plotting interface\n",
      "(pycoQC) "
     ]
    },
    {
     "ename": "",
     "evalue": "1",
     "output_type": "error",
     "traceback": []
    }
   ],
   "source": [
    "pycoQC \\\n",
    "    -f ./large_data/sample_1_sequencing_summary.txt \\\n",
    "    -a ./large_data/sample_1.bam \\\n",
    "    -o ./results/Guppy-2.3_basecall-1D_alignment-DNA.html \\\n",
    "    -j ./results/Guppy-2.3_basecall-1D_alignment-DNA.json \\\n",
    "    --quiet"
   ]
  },
  {
   "cell_type": "markdown",
   "metadata": {},
   "source": [
    "[HTML OUTPUT](https://a-slide.github.io/pycoQC/pycoQC/results/Guppy-2.3_basecall-1D_alignment-DNA.html)\n",
    "\n",
    "[JSON OUTPUT](https://a-slide.github.io/pycoQC/pycoQC/results/Guppy-2.3_basecall-1D_alignment-DNA.json)"
   ]
  },
  {
   "cell_type": "markdown",
   "metadata": {},
   "source": [
    "#### Advanced configuration with custon json file"
   ]
  },
  {
   "cell_type": "markdown",
   "metadata": {},
   "source": [
    "Although we recommend to stick to the default parameters, a json formatted configuration file can be provided to tweak the plots. A default configuration file can be generated using:"
   ]
  },
  {
   "cell_type": "code",
   "execution_count": 10,
   "metadata": {
    "ExecuteTime": {
     "end_time": "2019-10-10T15:41:43.421425Z",
     "start_time": "2019-10-10T15:41:41.145424Z"
    },
    "scrolled": false
   },
   "outputs": [
    {
     "name": "stdout",
     "output_type": "stream",
     "text": [
      "{\n",
      "  \"summary\": {\n",
      "    \"plot_title\": \"Run summary\"\n",
      "  },\n",
      "  \"barcode_summary\": {\n",
      "    \"plot_title\": \"Run summary by barcode\"\n",
      "  },\n",
      "  \"run_id_summary\": {\n",
      "    \"plot_title\": \"Run summary by Run ID\"\n",
      "  },\n",
      "  \"read_len_1D\": {\n",
      "    \"plot_title\": \"Basecalled reads length\",\n",
      "    \"color\": \"lightsteelblue\",\n",
      "    \"nbins\": 200,\n",
      "    \"smooth_sigma\": 2\n",
      "  },\n",
      "  \"align_len_1D\": {\n",
      "    \"plot_title\": \"Aligned reads length\",\n",
      "    \"color\": \"mediumseagreen\",\n",
      "    \"nbins\": 200,\n",
      "    \"smooth_sigma\": 2\n",
      "  },\n",
      "  \"read_qual_1D\": {\n",
      "    \"plot_title\": \"Basecalled reads PHRED quality\",\n",
      "    \"color\": \"salmon\",\n",
      "    \"nbins\": 200,\n",
      "    \"smooth_sigma\": 2\n",
      "  },\n",
      "  \"identity_freq_1D\": {\n",
      "    \"plot_title\": \"Aligned reads identity\",\n",
      "    \"color\": \"sandybrown\",\n",
      "    \"nbins\": 200,\n",
      "    \"smooth_sigma\": 2\n",
      "  },\n",
      "  \"read_len_read_qual_2D\": {\n",
      "    \"plot_title\": \"Basecalled reads length vs reads PHRED quality\",\n",
      "    \"x_nbins\": 200,\n",
      "    \"y_nbins\": 100,\n",
      "    \"smooth_sigma\": 2\n",
      "  },\n",
      "  \"read_len_align_len_2D\": {\n",
      "    \"plot_title\": \"Basecalled reads length vs alignments length\",\n",
      "    \"x_nbins\": 200,\n",
      "    \"y_nbins\": 100,\n",
      "    \"smooth_sigma\": 1\n",
      "  },\n",
      "  \"align_len_identity_freq_2D\": {\n",
      "    \"plot_title\": \"Aligned reads length vs alignments identity\",\n",
      "    \"x_nbins\": 200,\n",
      "    \"y_nbins\": 100,\n",
      "    \"smooth_sigma\": 2\n",
      "  },\n",
      "  \"read_qual_identity_freq_2D\": {\n",
      "    \"plot_title\": \"Reads PHRED quality vs alignments identity\",\n",
      "    \"x_nbins\": 200,\n",
      "    \"y_nbins\": 100,\n",
      "    \"smooth_sigma\": 1\n",
      "  },\n",
      "  \"output_over_time\": {\n",
      "    \"plot_title\": \"Output over experiment time\",\n",
      "    \"cumulative_color\": \"rgb(204,226,255)\",\n",
      "    \"interval_color\": \"rgb(102,168,255)\"\n",
      "  },\n",
      "  \"len_over_time\": {\n",
      "    \"plot_title\": \"Read length over time\",\n",
      "    \"median_color\": \"rgb(102,168,255)\",\n",
      "    \"quartile_color\": \"rgb(153,197,255)\",\n",
      "    \"extreme_color\": \"rgba(153,197,255,0.5)\",\n",
      "    \"smooth_sigma\": 1\n",
      "  },\n",
      "  \"qual_over_time\": {\n",
      "    \"plot_title\": \"Mean read quality over time\",\n",
      "    \"median_color\": \"rgb(250,128,114)\",\n",
      "    \"quartile_color\": \"rgb(250,170,160)\",\n",
      "    \"extreme_color\": \"rgba(250,170,160,0.5)\",\n",
      "    \"smooth_sigma\": 1\n",
      "  },\n",
      "  \"barcode_counts\": {\n",
      "    \"plot_title\": \"Number of reads per barcode\",\n",
      "    \"colors\": [\n",
      "      \"#f8bc9c\",\n",
      "      \"#f6e9a1\",\n",
      "      \"#f5f8f2\",\n",
      "      \"#92d9f5\",\n",
      "      \"#4f97ba\"\n",
      "    ]\n",
      "  },\n",
      "  \"channels_activity\": {\n",
      "    \"plot_title\": \"Channel activity over time\",\n",
      "    \"smooth_sigma\": 1\n",
      "  },\n",
      "  \"alignment_summary\": {\n",
      "    \"plot_title\": \"Summary of reads alignment\",\n",
      "    \"colors\": [\n",
      "      \"#f8bc9c\",\n",
      "      \"#f6e9a1\",\n",
      "      \"#92d9f5\",\n",
      "      \"#4f97ba\",\n",
      "      \"#f5f8f2\"\n",
      "    ]\n",
      "  },\n",
      "  \"alignment_rate\": {\n",
      "    \"plot_title\": \"Bases alignment rate\",\n",
      "    \"colors\": [\n",
      "      \"#fcaf94\",\n",
      "      \"#828282\",\n",
      "      \"#fc8161\",\n",
      "      \"#828282\",\n",
      "      \"#f44f39\",\n",
      "      \"#d52221\",\n",
      "      \"#828282\",\n",
      "      \"#828282\",\n",
      "      \"#828282\",\n",
      "      \"#828282\"\n",
      "    ]\n",
      "  },\n",
      "  \"alignment_coverage\": {\n",
      "    \"plot_title\": \"Coverage overview\",\n",
      "    \"nbins\": 500,\n",
      "    \"color\": \"rgba(102,168,255,0.75)\",\n",
      "    \"smooth_sigma\": 1\n",
      "  }\n",
      "}\n",
      "(pycoQC) "
     ]
    },
    {
     "ename": "",
     "evalue": "1",
     "output_type": "error",
     "traceback": []
    }
   ],
   "source": [
    "pycoQC --default_config"
   ]
  },
  {
   "cell_type": "markdown",
   "metadata": {
    "ExecuteTime": {
     "end_time": "2019-06-24T15:52:37.096001Z",
     "start_time": "2019-06-24T15:52:36.888372Z"
    }
   },
   "source": [
    "To save and edit it redirect the std output to a file and make your changes using your favorite text editor.\n",
    "\n",
    "To remove a plot from the report, just remove it (or comment it) from the configuration file\n",
    "\n",
    "The configuration file accept all the arguments of the target plotting functions. For more information refer to the API documentation"
   ]
  },
  {
   "cell_type": "code",
   "execution_count": 11,
   "metadata": {
    "ExecuteTime": {
     "end_time": "2019-10-10T15:41:55.854730Z",
     "start_time": "2019-10-10T15:41:53.706579Z"
    }
   },
   "outputs": [
    {
     "name": "stdout",
     "output_type": "stream",
     "text": [
      "(pycoQC) "
     ]
    },
    {
     "ename": "",
     "evalue": "1",
     "output_type": "error",
     "traceback": []
    }
   ],
   "source": [
    "pycoQC --default_config > data/pycoQC_config.json"
   ]
  },
  {
   "cell_type": "markdown",
   "metadata": {},
   "source": [
    "Run pycoQC with `--config` option"
   ]
  },
  {
   "cell_type": "code",
   "execution_count": 10,
   "metadata": {
    "ExecuteTime": {
     "end_time": "2019-10-11T23:12:43.526042Z",
     "start_time": "2019-10-11T23:12:37.896179Z"
    },
    "scrolled": false
   },
   "outputs": [
    {
     "name": "stdout",
     "output_type": "stream",
     "text": [
      "Checking arguments values\n",
      "Check input data files\n",
      "Parse data files\n",
      "Merge data\n",
      "Cleaning data\n",
      "Loading plotting interface\n",
      "(pycoQC) "
     ]
    },
    {
     "ename": "",
     "evalue": "1",
     "output_type": "error",
     "traceback": []
    }
   ],
   "source": [
    "pycoQC \\\n",
    "    -f ./data/Albacore-1.7.0_basecall-1D-DNA_sequencing_summary.txt.gz\\\n",
    "    -o ./results/Albacore-1.7.0_basecall-1D-DNA.html \\\n",
    "    --config ./data/pycoQC_config.json \\\n",
    "    --quiet"
   ]
  },
  {
   "cell_type": "markdown",
   "metadata": {},
   "source": [
    "[HTML OUTPUT](https://a-slide.github.io/pycoQC/pycoQC/results/Albacore-1.7.0_basecall-1D-DNA.html)"
   ]
  }
 ],
 "metadata": {
  "celltoolbar": "Initialization Cell",
  "hide_input": false,
  "kernelspec": {
   "display_name": "Bash",
   "language": "bash",
   "name": "bash"
  },
  "language_info": {
   "codemirror_mode": "shell",
   "file_extension": ".sh",
   "mimetype": "text/x-sh",
   "name": "bash"
  },
  "widgets": {
   "state": {},
   "version": "1.1.1"
  }
 },
 "nbformat": 4,
 "nbformat_minor": 1
}
