{
 "cells": [
  {
   "cell_type": "markdown",
   "metadata": {},
   "source": [
    "# Fast5_to_seq_summary API Usage"
   ]
  },
  {
   "cell_type": "markdown",
   "metadata": {},
   "source": [
    "## Running Jupyter notebook"
   ]
  },
  {
   "cell_type": "markdown",
   "metadata": {},
   "source": [
    "If you want to run pycoQC interactively in Jupyter you need to install Jupyter manually. If you installed pycoQC in a virtual environment then install Jupyter in the same virtual environment.\n",
    "\n",
    "```bash\n",
    "pip3 install notebook\n",
    "```\n",
    "\n",
    "Launch the notebook in a shell terminal\n",
    "\n",
    "```bash\n",
    "jupyter notebook\n",
    "```\n",
    "\n",
    "If it does not auto-start, open the following URL in you favorite web browser http://localhost:8888/tree\n",
    "\n",
    "From Jupyter homepage you can navigate to the directory you want to work in and create a new Python3 Notebook."
   ]
  },
  {
   "cell_type": "markdown",
   "metadata": {},
   "source": [
    "## Imports"
   ]
  },
  {
   "cell_type": "code",
   "execution_count": 1,
   "metadata": {
    "ExecuteTime": {
     "end_time": "2019-09-25T22:08:07.988051Z",
     "start_time": "2019-09-25T22:08:07.489020Z"
    },
    "init_cell": true
   },
   "outputs": [],
   "source": [
    "# Run cell with Ctrl + Enter\n",
    "\n",
    "# Import main pycoQC module\n",
    "from pycoQC.Fast5_to_seq_summary import Fast5_to_seq_summary\n",
    "\n",
    "# Import helper functions from pycoQC\n",
    "from pycoQC.common import jhelp, head"
   ]
  },
  {
   "cell_type": "markdown",
   "metadata": {},
   "source": [
    "## Running Fast5_to_seq_summary"
   ]
  },
  {
   "cell_type": "code",
   "execution_count": 14,
   "metadata": {
    "ExecuteTime": {
     "end_time": "2019-05-07T15:44:44.154604Z",
     "start_time": "2019-05-07T15:44:44.147961Z"
    }
   },
   "outputs": [
    {
     "data": {
      "text/markdown": [
       "---\n",
       "\n",
       "**pycoQC.Fast5_to_seq_summary.__init__**\n",
       "\n",
       "\n",
       "\n",
       "---\n",
       "\n",
       "* **fast5_dir** *: str (required)*\n",
       "\n",
       "Directory containing fast5 files. Can contain multiple subdirectories\n",
       "\n",
       "* **seq_summary_fn** *: str (required)*\n",
       "\n",
       "path of the summary sequencing file where to write the data extracted from the fast5 files\n",
       "\n",
       "* **max_fast5** *: int (default = 0)*\n",
       "\n",
       "Maximum number of file to try to parse. 0 to deactivate\n",
       "\n",
       "* **threads** *: int (default = 4)*\n",
       "\n",
       "Total number of threads to use. 1 thread is used for the reader and 1 for the writer. Minimum 3 (default = 4)\n",
       "\n",
       "* **fields** *: list of str (default = ['read_id', 'run_id', 'channel', 'start_time', 'sequence_length_template', 'mean_qscore_template', 'calibration_strand_genome_template', 'barcode_arrangement'])*\n",
       "\n",
       "list of field names corresponding to attributes to try to fetch from the fast5 files. List a valid field names: mean_qscore_template, sequence_length_template, called_events, skip_prob, stay_prob, step_prob, strand_score, read_id, start_time, duration, start_mux, read_number, channel, channel_digitisation, channel_offset, channel_range, channel_sampling, run_id, sample_id, device_id, protocol_run, flow_cell, calibration_strand, calibration_strand, calibration_strand, calibration_strand, barcode_arrangement, barcode_full, barcode_score\n",
       "\n",
       "* **basecall_id** *: int (default = 0)*\n",
       "\n",
       "id of the basecalling group. By default leave to 0, but if you perfome multiple basecalling on the same fast5 files, this can be used to indicate the corresponding group (1, 2 ...)\n",
       "\n",
       "* **include_path** *: bool (default = False)*\n",
       "\n",
       "If True the absolute path to the corresponding file is added in an extra column\n",
       "\n",
       "* **verbose_level** *: int {0,1,2} (default = 0)*\n",
       "\n",
       "Level of verbosity, from 2 (Chatty) to 0 (Nothing)\n",
       "\n"
      ],
      "text/plain": [
       "<IPython.core.display.Markdown object>"
      ]
     },
     "metadata": {},
     "output_type": "display_data"
    }
   ],
   "source": [
    "jhelp(Fast5_to_seq_summary)"
   ]
  },
  {
   "cell_type": "markdown",
   "metadata": {},
   "source": [
    "### Basic usage"
   ]
  },
  {
   "cell_type": "markdown",
   "metadata": {},
   "source": [
    "This minimal usage creates a minimal file compatible with pycoQC "
   ]
  },
  {
   "cell_type": "code",
   "execution_count": 15,
   "metadata": {
    "ExecuteTime": {
     "end_time": "2019-05-07T15:44:51.365882Z",
     "start_time": "2019-05-07T15:44:51.256654Z"
    }
   },
   "outputs": [
    {
     "name": "stderr",
     "output_type": "stream",
     "text": [
      "22 reads [00:00, 885.48 reads/s]\n",
      "Total reads: 22 / Average speed: 350.6 reads/s\n",
      "\n"
     ]
    },
    {
     "name": "stdout",
     "output_type": "stream",
     "text": [
      "read_id                              run_id                                   channel start_time sequence_length_template mean_qscore_template calibration_strand_genome_template \n",
      "5b7fadd0-c646-4c7b-9800-66ee658a5ca8 40ebe55356ada6c830fa793745ef4c498d896c73 150     37         468                      7.608                filtered_out                       \n",
      "e6a8e4d0-7b3c-471a-be26-fa7857d12663 40ebe55356ada6c830fa793745ef4c498d896c73 318     15         392                      8.304                filtered_out                       \n",
      "f8325de9-a77e-4616-a4a8-69ecf32e1688 40ebe55356ada6c830fa793745ef4c498d896c73 354     16         568                      8.206                filtered_out                       \n",
      "6af04302-04c8-4d8d-8e87-aa69178b3f24 40ebe55356ada6c830fa793745ef4c498d896c73 36      26         832                      8.234                filtered_out                       \n",
      "2c32553e-62c6-4c7a-bf05-249771364f04 40ebe55356ada6c830fa793745ef4c498d896c73 237     11         1151                     8.544                filtered_out                       \n",
      "68804104-71dc-465c-b82d-3a99a4689701 40ebe55356ada6c830fa793745ef4c498d896c73 38      20         1010                     8.325                filtered_out                       \n",
      "9a1c5296-2ab1-4abd-8d50-e059754cf332 40ebe55356ada6c830fa793745ef4c498d896c73 319     33         1235                     8.119                filtered_out                       \n",
      "0ef36fa0-7c3f-47f5-8410-027f50724701 40ebe55356ada6c830fa793745ef4c498d896c73 108     26         915                      9.407                filtered_out                       \n",
      "3e81c32a-f2ee-4719-a88d-e0affe93d26f 40ebe55356ada6c830fa793745ef4c498d896c73 348     24         1137                     8.124                filtered_out                       \n",
      "\n"
     ]
    }
   ],
   "source": [
    "Fast5_to_seq_summary (\n",
    "    fast5_dir=\"./data/fast5/\",\n",
    "    seq_summary_fn=\"./data/fast5/summary_sequencing.tsv\")\n",
    "\n",
    "head (\"./data/fast5/summary_sequencing.tsv\")"
   ]
  },
  {
   "cell_type": "markdown",
   "metadata": {},
   "source": [
    "### Multi-threading support"
   ]
  },
  {
   "cell_type": "code",
   "execution_count": 19,
   "metadata": {
    "ExecuteTime": {
     "end_time": "2019-05-07T15:46:41.386357Z",
     "start_time": "2019-05-07T15:46:41.226830Z"
    }
   },
   "outputs": [
    {
     "name": "stderr",
     "output_type": "stream",
     "text": [
      "Check input data and options\n",
      "Start processing fast5 files\n",
      "22 reads [00:00, 21509.25 reads/s]\n",
      "Overall counts \tvalid files: 22\n",
      "fields found \tread_id: 22\trun_id: 22\tchannel: 22\tstart_time: 22\tsequence_length_template: 22\tmean_qscore_template: 22\tcalibration_strand_genome_template: 22\n",
      "fields not found \tbarcode_arrangement: 22\n",
      "Total reads: 22 / Average speed: 625.26 reads/s\n",
      "\n"
     ]
    },
    {
     "name": "stdout",
     "output_type": "stream",
     "text": [
      "read_id                              run_id                                   channel start_time sequence_length_template mean_qscore_template calibration_strand_genome_template \n",
      "5b7fadd0-c646-4c7b-9800-66ee658a5ca8 40ebe55356ada6c830fa793745ef4c498d896c73 150     37         468                      7.608                filtered_out                       \n",
      "2c32553e-62c6-4c7a-bf05-249771364f04 40ebe55356ada6c830fa793745ef4c498d896c73 237     11         1151                     8.544                filtered_out                       \n",
      "e6a8e4d0-7b3c-471a-be26-fa7857d12663 40ebe55356ada6c830fa793745ef4c498d896c73 318     15         392                      8.304                filtered_out                       \n",
      "f8325de9-a77e-4616-a4a8-69ecf32e1688 40ebe55356ada6c830fa793745ef4c498d896c73 354     16         568                      8.206                filtered_out                       \n",
      "3e81c32a-f2ee-4719-a88d-e0affe93d26f 40ebe55356ada6c830fa793745ef4c498d896c73 348     24         1137                     8.124                filtered_out                       \n",
      "68804104-71dc-465c-b82d-3a99a4689701 40ebe55356ada6c830fa793745ef4c498d896c73 38      20         1010                     8.325                filtered_out                       \n",
      "37dfa1d5-5d84-486c-bf47-9eb6438f5645 40ebe55356ada6c830fa793745ef4c498d896c73 410     30         555                      8.219                filtered_out                       \n",
      "9a1c5296-2ab1-4abd-8d50-e059754cf332 40ebe55356ada6c830fa793745ef4c498d896c73 319     33         1235                     8.119                filtered_out                       \n",
      "0ef36fa0-7c3f-47f5-8410-027f50724701 40ebe55356ada6c830fa793745ef4c498d896c73 108     26         915                      9.407                filtered_out                       \n",
      "\n"
     ]
    }
   ],
   "source": [
    "Fast5_to_seq_summary (\n",
    "    fast5_dir=\"./data/fast5/\",\n",
    "    seq_summary_fn=\"./data/fast5/summary_sequencing.tsv\",\n",
    "    verbose_level=1,\n",
    "    threads=10)\n",
    "\n",
    "head (\"./data/fast5/summary_sequencing.tsv\")"
   ]
  },
  {
   "cell_type": "markdown",
   "metadata": {},
   "source": [
    "### Customize fields of the summary file"
   ]
  },
  {
   "cell_type": "code",
   "execution_count": 20,
   "metadata": {
    "ExecuteTime": {
     "end_time": "2019-05-07T15:47:26.538585Z",
     "start_time": "2019-05-07T15:47:26.397490Z"
    }
   },
   "outputs": [
    {
     "name": "stderr",
     "output_type": "stream",
     "text": [
      "Check input data and options\n",
      "Start processing fast5 files\n",
      "22 reads [00:00, 14146.05 reads/s]\n",
      "Overall counts \tvalid files: 22\n",
      "fields found \tmean_qscore_template: 22\tcalled_events: 22\tduration: 22\tstrand_score: 22\n",
      "fields not found \n",
      "Total reads: 22 / Average speed: 441.63 reads/s\n",
      "\n"
     ]
    },
    {
     "name": "stdout",
     "output_type": "stream",
     "text": [
      "mean_qscore_template called_events duration strand_score \n",
      "7.608                1615          24233    -0.0007      \n",
      "8.544                3740          56107    -0.0003      \n",
      "8.304                1547          23218    -0.0008      \n",
      "8.206                1649          24747    -0.0009      \n",
      "8.124                2978          44675    -0.0005      \n",
      "8.325                3846          57697    -0.0004      \n",
      "8.219                2080          31208    -0.0011      \n",
      "8.234                1827          27409    -0.0011      \n",
      "8.54                 2023          30405    -0.0003      \n",
      "\n"
     ]
    }
   ],
   "source": [
    "Fast5_to_seq_summary (\n",
    "    fast5_dir=\"./data/fast5/\",\n",
    "    seq_summary_fn=\"./data/fast5/summary_sequencing.tsv\",\n",
    "    threads=6,\n",
    "    verbose_level=1,\n",
    "    fields=[\"mean_qscore_template\", \"called_events\", \"duration\", \"strand_score\"])\n",
    "\n",
    "head (\"./data/fast5/summary_sequencing.tsv\")"
   ]
  },
  {
   "cell_type": "markdown",
   "metadata": {},
   "source": [
    "### Add file path"
   ]
  },
  {
   "cell_type": "code",
   "execution_count": 21,
   "metadata": {
    "ExecuteTime": {
     "end_time": "2019-05-07T15:48:33.188846Z",
     "start_time": "2019-05-07T15:48:33.067116Z"
    },
    "scrolled": true
   },
   "outputs": [
    {
     "name": "stderr",
     "output_type": "stream",
     "text": [
      "Check input data and options\n",
      "Start processing fast5 files\n",
      "22 reads [00:00, 2074.66 reads/s]\n",
      "Overall counts \tvalid files: 22\n",
      "fields found \tread_id: 22\trun_id: 22\tchannel: 22\tstart_time: 22\tsequence_length_template: 22\tmean_qscore_template: 22\tcalibration_strand_genome_template: 22\n",
      "fields not found \tbarcode_arrangement: 22\n",
      "Total reads: 22 / Average speed: 393.84 reads/s\n",
      "\n"
     ]
    },
    {
     "name": "stdout",
     "output_type": "stream",
     "text": [
      "read_id                              run_id                                   channel start_time sequence_length_template mean_qscore_template calibration_strand_genome_template path                                                                                                                             \n",
      "2c32553e-62c6-4c7a-bf05-249771364f04 40ebe55356ada6c830fa793745ef4c498d896c73 237     11         1151                     8.544                filtered_out                       /home/aleg/Programming/pycoQC/docs/demo/data/fast5/20180625_FAH77625_MN23126_sequencing_run_S1_57529_read_10_ch_237_strand.fast5 \n",
      "f8325de9-a77e-4616-a4a8-69ecf32e1688 40ebe55356ada6c830fa793745ef4c498d896c73 354     16         568                      8.206                filtered_out                       /home/aleg/Programming/pycoQC/docs/demo/data/fast5/20180625_FAH77625_MN23126_sequencing_run_S1_57529_read_10_ch_354_strand.fast5 \n",
      "3e81c32a-f2ee-4719-a88d-e0affe93d26f 40ebe55356ada6c830fa793745ef4c498d896c73 348     24         1137                     8.124                filtered_out                       /home/aleg/Programming/pycoQC/docs/demo/data/fast5/20180625_FAH77625_MN23126_sequencing_run_S1_57529_read_10_ch_348_strand.fast5 \n",
      "37dfa1d5-5d84-486c-bf47-9eb6438f5645 40ebe55356ada6c830fa793745ef4c498d896c73 410     30         555                      8.219                filtered_out                       /home/aleg/Programming/pycoQC/docs/demo/data/fast5/20180625_FAH77625_MN23126_sequencing_run_S1_57529_read_10_ch_410_strand.fast5 \n",
      "9a1c5296-2ab1-4abd-8d50-e059754cf332 40ebe55356ada6c830fa793745ef4c498d896c73 319     33         1235                     8.119                filtered_out                       /home/aleg/Programming/pycoQC/docs/demo/data/fast5/20180625_FAH77625_MN23126_sequencing_run_S1_57529_read_10_ch_319_strand.fast5 \n",
      "5b7fadd0-c646-4c7b-9800-66ee658a5ca8 40ebe55356ada6c830fa793745ef4c498d896c73 150     37         468                      7.608                filtered_out                       /home/aleg/Programming/pycoQC/docs/demo/data/fast5/20180625_FAH77625_MN23126_sequencing_run_S1_57529_read_10_ch_150_strand.fast5 \n",
      "68804104-71dc-465c-b82d-3a99a4689701 40ebe55356ada6c830fa793745ef4c498d896c73 38      20         1010                     8.325                filtered_out                       /home/aleg/Programming/pycoQC/docs/demo/data/fast5/20180625_FAH77625_MN23126_sequencing_run_S1_57529_read_10_ch_38_strand.fast5  \n",
      "3784283c-47cc-48ac-8d7b-7efd32123b56 40ebe55356ada6c830fa793745ef4c498d896c73 243     20         893                      8.54                 filtered_out                       /home/aleg/Programming/pycoQC/docs/demo/data/fast5/20180625_FAH77625_MN23126_sequencing_run_S1_57529_read_10_ch_243_strand.fast5 \n",
      "08642be5-5cf7-4c4c-8c45-e4d569b9a482 40ebe55356ada6c830fa793745ef4c498d896c73 121     28         450                      7.805                filtered_out                       /home/aleg/Programming/pycoQC/docs/demo/data/fast5/20180625_FAH77625_MN23126_sequencing_run_S1_57529_read_10_ch_121_strand.fast5 \n",
      "\n"
     ]
    }
   ],
   "source": [
    "Fast5_to_seq_summary (\n",
    "    fast5_dir=\"./data/fast5/\",\n",
    "    seq_summary_fn=\"./data/fast5/summary_sequencing.tsv\",\n",
    "    threads=6,\n",
    "    verbose_level=1,\n",
    "    include_path=True)\n",
    "\n",
    "head (\"./data/fast5/summary_sequencing.tsv\")"
   ]
  }
 ],
 "metadata": {
  "celltoolbar": "Initialization Cell",
  "hide_input": false,
  "kernelspec": {
   "display_name": "Python3.6",
   "language": "python",
   "name": "python3.6"
  },
  "language_info": {
   "codemirror_mode": {
    "name": "ipython",
    "version": 3
   },
   "file_extension": ".py",
   "mimetype": "text/x-python",
   "name": "python",
   "nbconvert_exporter": "python",
   "pygments_lexer": "ipython3",
   "version": "3.6.6"
  },
  "widgets": {
   "state": {},
   "version": "1.1.1"
  }
 },
 "nbformat": 4,
 "nbformat_minor": 1
}
