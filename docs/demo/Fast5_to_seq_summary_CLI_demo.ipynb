{
 "cells": [
  {
   "cell_type": "markdown",
   "metadata": {},
   "source": [
    "# Fast5_to_seq_summary CLI Usage"
   ]
  },
  {
   "cell_type": "markdown",
   "metadata": {},
   "source": [
    "## Activate virtual environment"
   ]
  },
  {
   "cell_type": "code",
   "execution_count": 1,
   "metadata": {
    "ExecuteTime": {
     "end_time": "2019-05-07T16:04:18.282735Z",
     "start_time": "2019-05-07T16:04:17.649650Z"
    }
   },
   "outputs": [
    {
     "name": "stdout",
     "output_type": "stream",
     "text": [
      "(pycoQC) "
     ]
    },
    {
     "ename": "",
     "evalue": "1",
     "output_type": "error",
     "traceback": []
    }
   ],
   "source": [
    "# Using virtualenvwrapper here but can also be done with Conda \n",
    "workon pycoQC"
   ]
  },
  {
   "cell_type": "markdown",
   "metadata": {},
   "source": [
    "## Getting help"
   ]
  },
  {
   "cell_type": "code",
   "execution_count": 6,
   "metadata": {
    "ExecuteTime": {
     "end_time": "2019-05-07T16:09:14.779722Z",
     "start_time": "2019-05-07T16:09:13.707720Z"
    }
   },
   "outputs": [
    {
     "name": "stdout",
     "output_type": "stream",
     "text": [
      "usage: Fast5_to_seq_summary [-h] [--version] --fast5_dir FAST5_DIR\n",
      "                            --seq_summary_fn SEQ_SUMMARY_FN\n",
      "                            [--max_fast5 MAX_FAST5] [--threads THREADS]\n",
      "                            [--basecall_id BASECALL_ID]\n",
      "                            [--fields FIELDS [FIELDS ...]] [--include_path]\n",
      "                            [--verbose_level VERBOSE_LEVEL]\n",
      "\n",
      "Fast5_to_seq_summary generate a sequencing summary like file from a directory\n",
      "containing Fast5 files\n",
      "\n",
      "optional arguments:\n",
      "  -h, --help            show this help message and exit\n",
      "  --version, -v         show program's version number and exit\n",
      "  --fast5_dir FAST5_DIR, -f FAST5_DIR\n",
      "                        Directory containing fast5 files. Can contain multiple\n",
      "                        subdirectories\n",
      "  --seq_summary_fn SEQ_SUMMARY_FN, -s SEQ_SUMMARY_FN\n",
      "                        path of the summary sequencing file where to write the\n",
      "                        data extracted from the fast5 files\n",
      "  --max_fast5 MAX_FAST5\n",
      "                        Maximum number of file to try to parse. 0 to\n",
      "                        deactivate (default: 0)\n",
      "  --threads THREADS, -t THREADS\n",
      "                        Total number of threads to use. 1 thread is used for\n",
      "                        the reader and 1 for the writer. Minimum 3 (default:\n",
      "                        4)\n",
      "  --basecall_id BASECALL_ID\n",
      "                        id of the basecalling group. By default leave to 0,\n",
      "                        but if you perfome multiple basecalling on the same\n",
      "                        fast5 files, this can be used to indicate the\n",
      "                        corresponding group (1, 2 ...) (default: 0)\n",
      "  --fields FIELDS [FIELDS ...]\n",
      "                        list of field names corresponding to attributes to try\n",
      "                        to fetch from the fast5 files (default: ['read_id',\n",
      "                        'run_id', 'channel', 'start_time',\n",
      "                        'sequence_length_template', 'mean_qscore_template',\n",
      "                        'calibration_strand_genome_template',\n",
      "                        'barcode_arrangement'])\n",
      "  --include_path        If given, the absolute path to the corresponding file\n",
      "                        is added in an extra column (default: False)\n",
      "  --verbose_level VERBOSE_LEVEL\n",
      "                        Level of verbosity, from 2 (Chatty) to 0 (Nothing)\n",
      "                        (default: 0)\n",
      "(pycoQC) "
     ]
    },
    {
     "ename": "",
     "evalue": "1",
     "output_type": "error",
     "traceback": []
    }
   ],
   "source": [
    "Fast5_to_seq_summary -h"
   ]
  },
  {
   "cell_type": "markdown",
   "metadata": {},
   "source": [
    "## Usage examples"
   ]
  },
  {
   "cell_type": "markdown",
   "metadata": {},
   "source": [
    "### Basic usage "
   ]
  },
  {
   "cell_type": "code",
   "execution_count": 7,
   "metadata": {
    "ExecuteTime": {
     "end_time": "2019-05-07T16:09:43.458721Z",
     "start_time": "2019-05-07T16:09:42.118458Z"
    },
    "scrolled": true
   },
   "outputs": [
    {
     "name": "stdout",
     "output_type": "stream",
     "text": [
      "22 reads [00:00, 1547.19 reads/s]\n",
      "Total reads: 22 / Average speed: 824.4 reads/s\n",
      "\n",
      "(pycoQC) (pycoQC) read_id\trun_id\tchannel\tstart_time\tsequence_length_template\tmean_qscore_template\tcalibration_strand_genome_template\n",
      "5b7fadd0-c646-4c7b-9800-66ee658a5ca8\t40ebe55356ada6c830fa793745ef4c498d896c73\t150\t37\t468\t7.608\tfiltered_out\n",
      "2c32553e-62c6-4c7a-bf05-249771364f04\t40ebe55356ada6c830fa793745ef4c498d896c73\t237\t11\t1151\t8.544\tfiltered_out\n",
      "e6a8e4d0-7b3c-471a-be26-fa7857d12663\t40ebe55356ada6c830fa793745ef4c498d896c73\t318\t15\t392\t8.304\tfiltered_out\n",
      "f8325de9-a77e-4616-a4a8-69ecf32e1688\t40ebe55356ada6c830fa793745ef4c498d896c73\t354\t16\t568\t8.206\tfiltered_out\n",
      "6af04302-04c8-4d8d-8e87-aa69178b3f24\t40ebe55356ada6c830fa793745ef4c498d896c73\t36\t26\t832\t8.234\tfiltered_out\n",
      "68804104-71dc-465c-b82d-3a99a4689701\t40ebe55356ada6c830fa793745ef4c498d896c73\t38\t20\t1010\t8.325\tfiltered_out\n",
      "3e81c32a-f2ee-4719-a88d-e0affe93d26f\t40ebe55356ada6c830fa793745ef4c498d896c73\t348\t24\t1137\t8.124\tfiltered_out\n",
      "3784283c-47cc-48ac-8d7b-7efd32123b56\t40ebe55356ada6c830fa793745ef4c498d896c73\t243\t20\t893\t8.54\tfiltered_out\n",
      "37dfa1d5-5d84-486c-bf47-9eb6438f5645\t40ebe55356ada6c830fa793745ef4c498d896c73\t410\t30\t555\t8.219\tfiltered_out\n",
      "(pycoQC) "
     ]
    },
    {
     "ename": "",
     "evalue": "1",
     "output_type": "error",
     "traceback": []
    }
   ],
   "source": [
    "Fast5_to_seq_summary \\\n",
    "    -f data/fast5 \\\n",
    "    -s data/fast5/summary_sequencing.tsv\n",
    "    \n",
    "head data/fast5/summary_sequencing.tsv"
   ]
  },
  {
   "cell_type": "markdown",
   "metadata": {},
   "source": [
    "### Multi-threading support"
   ]
  },
  {
   "cell_type": "code",
   "execution_count": 8,
   "metadata": {
    "ExecuteTime": {
     "end_time": "2019-05-07T16:12:48.508165Z",
     "start_time": "2019-05-07T16:12:47.125957Z"
    }
   },
   "outputs": [
    {
     "name": "stdout",
     "output_type": "stream",
     "text": [
      "22 reads [00:00, 3302.96 reads/s]\n",
      "Total reads: 22 / Average speed: 1190.2 reads/s\n",
      "\n",
      "(pycoQC) (pycoQC) read_id\trun_id\tchannel\tstart_time\tsequence_length_template\tmean_qscore_template\tcalibration_strand_genome_template\n",
      "5b7fadd0-c646-4c7b-9800-66ee658a5ca8\t40ebe55356ada6c830fa793745ef4c498d896c73\t150\t37\t468\t7.608\tfiltered_out\n",
      "e6a8e4d0-7b3c-471a-be26-fa7857d12663\t40ebe55356ada6c830fa793745ef4c498d896c73\t318\t15\t392\t8.304\tfiltered_out\n",
      "2c32553e-62c6-4c7a-bf05-249771364f04\t40ebe55356ada6c830fa793745ef4c498d896c73\t237\t11\t1151\t8.544\tfiltered_out\n",
      "f8325de9-a77e-4616-a4a8-69ecf32e1688\t40ebe55356ada6c830fa793745ef4c498d896c73\t354\t16\t568\t8.206\tfiltered_out\n",
      "68804104-71dc-465c-b82d-3a99a4689701\t40ebe55356ada6c830fa793745ef4c498d896c73\t38\t20\t1010\t8.325\tfiltered_out\n",
      "6af04302-04c8-4d8d-8e87-aa69178b3f24\t40ebe55356ada6c830fa793745ef4c498d896c73\t36\t26\t832\t8.234\tfiltered_out\n",
      "37dfa1d5-5d84-486c-bf47-9eb6438f5645\t40ebe55356ada6c830fa793745ef4c498d896c73\t410\t30\t555\t8.219\tfiltered_out\n",
      "08642be5-5cf7-4c4c-8c45-e4d569b9a482\t40ebe55356ada6c830fa793745ef4c498d896c73\t121\t28\t450\t7.805\tfiltered_out\n",
      "4e21bf07-e2df-42d8-b347-59ef2c0618ea\t40ebe55356ada6c830fa793745ef4c498d896c73\t290\t31\t1160\t8.741\tfiltered_out\n",
      "(pycoQC) "
     ]
    },
    {
     "ename": "",
     "evalue": "1",
     "output_type": "error",
     "traceback": []
    }
   ],
   "source": [
    "Fast5_to_seq_summary \\\n",
    "    -f data/fast5 \\\n",
    "    -s data/fast5/summary_sequencing.tsv \\\n",
    "    -t 6\n",
    "    \n",
    "head data/fast5/summary_sequencing.tsv"
   ]
  },
  {
   "cell_type": "markdown",
   "metadata": {},
   "source": [
    "### Customize fields of the summary file"
   ]
  },
  {
   "cell_type": "code",
   "execution_count": 13,
   "metadata": {
    "ExecuteTime": {
     "end_time": "2019-05-07T16:14:58.095157Z",
     "start_time": "2019-05-07T16:14:56.674933Z"
    }
   },
   "outputs": [
    {
     "name": "stdout",
     "output_type": "stream",
     "text": [
      "Check input data and options\n",
      "Start processing fast5 files\n",
      "22 reads [00:00, 3302.37 reads/s]\n",
      "Overall counts \tvalid files: 22\n",
      "fields found \tmean_qscore_template: 22\tcalled_events: 22\tduration: 22\tstrand_score: 22\n",
      "fields not found \n",
      "Total reads: 22 / Average speed: 1043.36 reads/s\n",
      "\n",
      "(pycoQC) (pycoQC) mean_qscore_template\tcalled_events\tduration\tstrand_score\n",
      "7.608\t1615\t24233\t-0.0007\n",
      "8.304\t1547\t23218\t-0.0008\n",
      "8.206\t1649\t24747\t-0.0009\n",
      "8.234\t1827\t27409\t-0.0011\n",
      "8.124\t2978\t44675\t-0.0005\n",
      "8.219\t2080\t31208\t-0.0011\n",
      "8.544\t3740\t56107\t-0.0003\n",
      "8.325\t3846\t57697\t-0.0004\n",
      "7.805\t1438\t21583\t-0.0006\n",
      "(pycoQC) "
     ]
    },
    {
     "ename": "",
     "evalue": "1",
     "output_type": "error",
     "traceback": []
    }
   ],
   "source": [
    "Fast5_to_seq_summary \\\n",
    "    -f data/fast5 \\\n",
    "    -s data/fast5/summary_sequencing.tsv \\\n",
    "    --verbose_level 1 \\\n",
    "    --fields mean_qscore_template called_events duration strand_score\n",
    "    \n",
    "head data/fast5/summary_sequencing.tsv"
   ]
  },
  {
   "cell_type": "markdown",
   "metadata": {},
   "source": [
    "### Add file path"
   ]
  },
  {
   "cell_type": "code",
   "execution_count": 14,
   "metadata": {
    "ExecuteTime": {
     "end_time": "2019-05-07T16:15:44.884262Z",
     "start_time": "2019-05-07T16:15:43.347888Z"
    }
   },
   "outputs": [
    {
     "name": "stdout",
     "output_type": "stream",
     "text": [
      "Check input data and options\n",
      "Start processing fast5 files\n",
      "22 reads [00:00, 705.62 reads/s]\n",
      "Overall counts \tvalid files: 22\n",
      "fields found \tread_id: 22\trun_id: 22\tchannel: 22\tstart_time: 22\tsequence_length_template: 22\tmean_qscore_template: 22\tcalibration_strand_genome_template: 22\n",
      "fields not found \tbarcode_arrangement: 22\n",
      "Total reads: 22 / Average speed: 441.26 reads/s\n",
      "\n",
      "(pycoQC) (pycoQC) read_id\trun_id\tchannel\tstart_time\tsequence_length_template\tmean_qscore_template\tcalibration_strand_genome_template\tpath\n",
      "5b7fadd0-c646-4c7b-9800-66ee658a5ca8\t40ebe55356ada6c830fa793745ef4c498d896c73\t150\t37\t468\t7.608\tfiltered_out\t/home/aleg/Programming/pycoQC/docs/demo/data/fast5/20180625_FAH77625_MN23126_sequencing_run_S1_57529_read_10_ch_150_strand.fast5\n",
      "2c32553e-62c6-4c7a-bf05-249771364f04\t40ebe55356ada6c830fa793745ef4c498d896c73\t237\t11\t1151\t8.544\tfiltered_out\t/home/aleg/Programming/pycoQC/docs/demo/data/fast5/20180625_FAH77625_MN23126_sequencing_run_S1_57529_read_10_ch_237_strand.fast5\n",
      "f8325de9-a77e-4616-a4a8-69ecf32e1688\t40ebe55356ada6c830fa793745ef4c498d896c73\t354\t16\t568\t8.206\tfiltered_out\t/home/aleg/Programming/pycoQC/docs/demo/data/fast5/20180625_FAH77625_MN23126_sequencing_run_S1_57529_read_10_ch_354_strand.fast5\n",
      "e6a8e4d0-7b3c-471a-be26-fa7857d12663\t40ebe55356ada6c830fa793745ef4c498d896c73\t318\t15\t392\t8.304\tfiltered_out\t/home/aleg/Programming/pycoQC/docs/demo/data/fast5/20180625_FAH77625_MN23126_sequencing_run_S1_57529_read_10_ch_318_strand.fast5\n",
      "3e81c32a-f2ee-4719-a88d-e0affe93d26f\t40ebe55356ada6c830fa793745ef4c498d896c73\t348\t24\t1137\t8.124\tfiltered_out\t/home/aleg/Programming/pycoQC/docs/demo/data/fast5/20180625_FAH77625_MN23126_sequencing_run_S1_57529_read_10_ch_348_strand.fast5\n",
      "6af04302-04c8-4d8d-8e87-aa69178b3f24\t40ebe55356ada6c830fa793745ef4c498d896c73\t36\t26\t832\t8.234\tfiltered_out\t/home/aleg/Programming/pycoQC/docs/demo/data/fast5/20180625_FAH77625_MN23126_sequencing_run_S1_57529_read_10_ch_36_strand.fast5\n",
      "37dfa1d5-5d84-486c-bf47-9eb6438f5645\t40ebe55356ada6c830fa793745ef4c498d896c73\t410\t30\t555\t8.219\tfiltered_out\t/home/aleg/Programming/pycoQC/docs/demo/data/fast5/20180625_FAH77625_MN23126_sequencing_run_S1_57529_read_10_ch_410_strand.fast5\n",
      "68804104-71dc-465c-b82d-3a99a4689701\t40ebe55356ada6c830fa793745ef4c498d896c73\t38\t20\t1010\t8.325\tfiltered_out\t/home/aleg/Programming/pycoQC/docs/demo/data/fast5/20180625_FAH77625_MN23126_sequencing_run_S1_57529_read_10_ch_38_strand.fast5\n",
      "3784283c-47cc-48ac-8d7b-7efd32123b56\t40ebe55356ada6c830fa793745ef4c498d896c73\t243\t20\t893\t8.54\tfiltered_out\t/home/aleg/Programming/pycoQC/docs/demo/data/fast5/20180625_FAH77625_MN23126_sequencing_run_S1_57529_read_10_ch_243_strand.fast5\n",
      "(pycoQC) "
     ]
    },
    {
     "ename": "",
     "evalue": "1",
     "output_type": "error",
     "traceback": []
    }
   ],
   "source": [
    "Fast5_to_seq_summary \\\n",
    "    -f data/fast5 \\\n",
    "    -s data/fast5/summary_sequencing.tsv \\\n",
    "    --verbose_level 1 \\\n",
    "    --include_path\n",
    "    \n",
    "head data/fast5/summary_sequencing.tsv"
   ]
  }
 ],
 "metadata": {
  "celltoolbar": "Initialization Cell",
  "hide_input": false,
  "kernelspec": {
   "display_name": "Bash",
   "language": "bash",
   "name": "bash"
  },
  "language_info": {
   "codemirror_mode": "shell",
   "file_extension": ".sh",
   "mimetype": "text/x-sh",
   "name": "bash"
  },
  "widgets": {
   "state": {},
   "version": "1.1.1"
  }
 },
 "nbformat": 4,
 "nbformat_minor": 1
}
